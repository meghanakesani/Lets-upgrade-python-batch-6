{
 "cells": [
  {
   "cell_type": "code",
   "execution_count": 1,
   "metadata": {
    "collapsed": false
   },
   "outputs": [
    {
     "ename": "SyntaxError",
     "evalue": "EOL while scanning string literal (<ipython-input-1-47a3e834207a>, line 1)",
     "output_type": "error",
     "traceback": [
      "\u001b[0;36m  File \u001b[0;32m\"<ipython-input-1-47a3e834207a>\"\u001b[0;36m, line \u001b[0;32m1\u001b[0m\n\u001b[0;31m    print(\"Hello\u001b[0m\n\u001b[0m                ^\u001b[0m\n\u001b[0;31mSyntaxError\u001b[0m\u001b[0;31m:\u001b[0m EOL while scanning string literal\n"
     ]
    }
   ],
   "source": [
    "print(\"Hello\n",
    "python\")\n",
    "#this gives an error\n",
    "#to oercome this error we can use slash"
   ]
  },
  {
   "cell_type": "code",
   "execution_count": 2,
   "metadata": {
    "collapsed": false
   },
   "outputs": [
    {
     "name": "stdout",
     "output_type": "stream",
     "text": [
      "Hello python\n"
     ]
    }
   ],
   "source": [
    "print(\"Hello \\\n",
    "python\")"
   ]
  },
  {
   "cell_type": "code",
   "execution_count": 3,
   "metadata": {
    "collapsed": false
   },
   "outputs": [
    {
     "name": "stdout",
     "output_type": "stream",
     "text": [
      " Hello every one \n"
     ]
    }
   ],
   "source": [
    "print(\"\"\" Hello every one \"\"\")"
   ]
  },
  {
   "cell_type": "code",
   "execution_count": 1,
   "metadata": {
    "collapsed": false
   },
   "outputs": [
    {
     "name": "stdout",
     "output_type": "stream",
     "text": [
      "█▀▀▀▀▀▀▀▀▀▀▀▀▀▀▀▀▀▀▀▀▀▀▀▀▀▀▀▀▀▀▀▀█\n",
      "█─█♥Sweetness can be defined without honey,\n",
      "█─█-----------------------------------------------•*”˜˜”*•\n",
      "█─█♥fragnance can be defined without rose,\n",
      "█─█-----------------------------------------------•*”˜˜”*•\n",
      "█─█♥beauty can be defined without smile\n",
      "█─█-----------------------------------------------•*”˜˜”*•\n",
      "█─█♥but my life cannot be defined without you.\n",
      "█─█-----------------------------------------------•*”˜˜”*•\n",
      "█─█♥Feeling ur absence from the core of my heart!\n",
      "█▀█--------------------------------------------------------------█\n",
      "▀▀▀▀▀▀▀▀▀▀▀▀▀▀▀▀▀▀▀▀▀▀▀▀▀▀▀▀▀▀▀▀\n"
     ]
    }
   ],
   "source": [
    "print(\"\"\"█▀▀▀▀▀▀▀▀▀▀▀▀▀▀▀▀▀▀▀▀▀▀▀▀▀▀▀▀▀▀▀▀█\n",
    "█─█♥Sweetness can be defined without honey,\n",
    "█─█-----------------------------------------------•*”˜˜”*•\n",
    "█─█♥fragnance can be defined without rose,\n",
    "█─█-----------------------------------------------•*”˜˜”*•\n",
    "█─█♥beauty can be defined without smile\n",
    "█─█-----------------------------------------------•*”˜˜”*•\n",
    "█─█♥but my life cannot be defined without you.\n",
    "█─█-----------------------------------------------•*”˜˜”*•\n",
    "█─█♥Feeling ur absence from the core of my heart!\n",
    "█▀█--------------------------------------------------------------█\n",
    "▀▀▀▀▀▀▀▀▀▀▀▀▀▀▀▀▀▀▀▀▀▀▀▀▀▀▀▀▀▀▀▀\"\"\")\n",
    "#triple quotes are used to print everything present in it i.e., triple quotes prints everything present in it completely."
   ]
  },
  {
   "cell_type": "code",
   "execution_count": 2,
   "metadata": {
    "collapsed": false
   },
   "outputs": [
    {
     "ename": "SyntaxError",
     "evalue": "invalid syntax (<ipython-input-2-bd3a5e779a6d>, line 1)",
     "output_type": "error",
     "traceback": [
      "\u001b[0;36m  File \u001b[0;32m\"<ipython-input-2-bd3a5e779a6d>\"\u001b[0;36m, line \u001b[0;32m1\u001b[0m\n\u001b[0;31m    print('python's world')\u001b[0m\n\u001b[0m                  ^\u001b[0m\n\u001b[0;31mSyntaxError\u001b[0m\u001b[0;31m:\u001b[0m invalid syntax\n"
     ]
    }
   ],
   "source": [
    "print('python's world')\n",
    "# this gives an error because the quote is ended 2 times according to the comipler"
   ]
  },
  {
   "cell_type": "code",
   "execution_count": 3,
   "metadata": {
    "collapsed": false
   },
   "outputs": [
    {
     "name": "stdout",
     "output_type": "stream",
     "text": [
      "python's world\n"
     ]
    }
   ],
   "source": [
    "print(\"python's world\")\n",
    "#to reduce that error we use double quotes"
   ]
  },
  {
   "cell_type": "code",
   "execution_count": 4,
   "metadata": {
    "collapsed": false
   },
   "outputs": [
    {
     "name": "stdout",
     "output_type": "stream",
     "text": [
      "hello\tpython\n"
     ]
    }
   ],
   "source": [
    "#ESCAPE SEQUENCE OF STRINGS\n",
    "print(\"hello\\tpython\")\n",
    "#for tab space we use /t"
   ]
  },
  {
   "cell_type": "code",
   "execution_count": 5,
   "metadata": {
    "collapsed": false
   },
   "outputs": [
    {
     "name": "stdout",
     "output_type": "stream",
     "text": [
      "hello\n",
      "python\n"
     ]
    }
   ],
   "source": [
    "print(\"hello\\npython\")\n",
    "#for new line we use /n"
   ]
  },
  {
   "cell_type": "code",
   "execution_count": 6,
   "metadata": {
    "collapsed": false
   },
   "outputs": [
    {
     "name": "stdout",
     "output_type": "stream",
     "text": [
      "hello\u0007python\n"
     ]
    }
   ],
   "source": [
    "print(\"hello\\apython\")\n",
    "#to set a sound we use /a"
   ]
  },
  {
   "cell_type": "code",
   "execution_count": 7,
   "metadata": {
    "collapsed": false
   },
   "outputs": [
    {
     "name": "stdout",
     "output_type": "stream",
     "text": [
      "python's class\n"
     ]
    }
   ],
   "source": [
    "print('python\\'s class')\n",
    "# \\ takes the single quote  for single time'\n"
   ]
  },
  {
   "cell_type": "code",
   "execution_count": 8,
   "metadata": {
    "collapsed": false
   },
   "outputs": [
    {
     "name": "stdout",
     "output_type": "stream",
     "text": [
      "the name is  MEGHANA age is  20 marks are  94\n"
     ]
    }
   ],
   "source": [
    "#FORMATTED OUTPT\n",
    "name = \"MEGHANA\"\n",
    "marks = 94\n",
    "age = 20\n",
    "print(\"the name is \",name,\"age is \",age,\"marks are \",marks)\n",
    "#we separete all the given inputs using comma"
   ]
  },
  {
   "cell_type": "code",
   "execution_count": 9,
   "metadata": {
    "collapsed": false
   },
   "outputs": [
    {
     "name": "stdout",
     "output_type": "stream",
     "text": [
      "the name is MEGHANA marks are 20.000000 age is 94\n"
     ]
    },
    {
     "data": {
      "text/plain": [
       "'\\n%s is for strings\\n%f is floating point numbers\\n%d is for integers\\n'"
      ]
     },
     "execution_count": 9,
     "metadata": {
     },
     "output_type": "execute_result"
    }
   ],
   "source": [
    "print(\"the name is %s marks are %f age is %d\"%(name,age,marks))\n",
    "\"\"\"\n",
    "%s is for strings\n",
    "%f is floating point numbers\n",
    "%d is for integers\n",
    "\"\"\""
   ]
  },
  {
   "cell_type": "code",
   "execution_count": 10,
   "metadata": {
    "collapsed": false
   },
   "outputs": [
    {
     "name": "stdout",
     "output_type": "stream",
     "text": [
      "the name is MEGHANA marks are 20.000000 age is 94\n"
     ]
    }
   ],
   "source": [
    "print(\"the name is %s marks are %f age is %d\"%(name,age,marks))"
   ]
  },
  {
   "cell_type": "code",
   "execution_count": 11,
   "metadata": {
    "collapsed": false
   },
   "outputs": [
    {
     "name": "stdout",
     "output_type": "stream",
     "text": [
      "the name is    MEGHANA age is         20 marks are      94.00\n"
     ]
    }
   ],
   "source": [
    "print(\"the name is %10s age is %10d marks are %10.2f\"%(name,age,marks))\n",
    "#to get spaces "
   ]
  },
  {
   "cell_type": "code",
   "execution_count": 12,
   "metadata": {
    "collapsed": false
   },
   "outputs": [
    {
     "name": "stdout",
     "output_type": "stream",
     "text": [
      "the name person is MEGHANA marks 94 age is 20\n"
     ]
    }
   ],
   "source": [
    "print(f\"the name person is {name} marks {marks} age is {age}\")\n",
    "#f string:we can use f string instead of %s %f %d"
   ]
  },
  {
   "cell_type": "code",
   "execution_count": 13,
   "metadata": {
    "collapsed": false
   },
   "outputs": [
    {
     "ename": "SyntaxError",
     "evalue": "invalid syntax (<ipython-input-13-94a36a3da46e>, line 1)",
     "output_type": "error",
     "traceback": [
      "\u001b[0;36m  File \u001b[0;32m\"<ipython-input-13-94a36a3da46e>\"\u001b[0;36m, line \u001b[0;32m1\u001b[0m\n\u001b[0;31m    if = 30 #it gives error because a variable should not have keywords\u001b[0m\n\u001b[0m       ^\u001b[0m\n\u001b[0;31mSyntaxError\u001b[0m\u001b[0;31m:\u001b[0m invalid syntax\n"
     ]
    }
   ],
   "source": [
    "if = 30 #it gives error because a variable should not have keywords\n",
    "30 = 5 #it gives error because a value shouldn't be a variable"
   ]
  },
  {
   "cell_type": "code",
   "execution_count": 14,
   "metadata": {
    "collapsed": false
   },
   "outputs": [
   ],
   "source": [
    "if1 = 30\n",
    "_10 = 15\n",
    "\n",
    "x = y = z = 100"
   ]
  },
  {
   "cell_type": "code",
   "execution_count": 15,
   "metadata": {
    "collapsed": false
   },
   "outputs": [
    {
     "data": {
      "text/plain": [
       "10917664"
      ]
     },
     "execution_count": 15,
     "metadata": {
     },
     "output_type": "execute_result"
    }
   ],
   "source": [
    "id(x)\n",
    "#it gives address of a variable"
   ]
  },
  {
   "cell_type": "code",
   "execution_count": 16,
   "metadata": {
    "collapsed": false
   },
   "outputs": [
    {
     "data": {
      "text/plain": [
       "10917664"
      ]
     },
     "execution_count": 16,
     "metadata": {
     },
     "output_type": "execute_result"
    }
   ],
   "source": [
    "id(y)\n",
    "# here,both the variables x and y have the same address because the values are same but the varables are different.So,we can access the value by either x or y.They both gives the same output"
   ]
  },
  {
   "cell_type": "code",
   "execution_count": 17,
   "metadata": {
    "collapsed": false
   },
   "outputs": [
    {
     "ename": "NameError",
     "evalue": "name 'x' is not defined",
     "output_type": "error",
     "traceback": [
      "\u001b[0;31m---------------------------------------------------------------------------\u001b[0m",
      "\u001b[0;31mNameError\u001b[0m                                 Traceback (most recent call last)",
      "\u001b[0;32m<ipython-input-17-1a6af4deaf6c>\u001b[0m in \u001b[0;36m<module>\u001b[0;34m\u001b[0m\n\u001b[1;32m      1\u001b[0m \u001b[0;31m#DELETING THE VALUES\u001b[0m\u001b[0;34m\u001b[0m\u001b[0;34m\u001b[0m\u001b[0;34m\u001b[0m\u001b[0m\n\u001b[1;32m      2\u001b[0m \u001b[0;32mdel\u001b[0m \u001b[0mx\u001b[0m\u001b[0;34m\u001b[0m\u001b[0;34m\u001b[0m\u001b[0m\n\u001b[0;32m----> 3\u001b[0;31m \u001b[0mprint\u001b[0m\u001b[0;34m(\u001b[0m\u001b[0mx\u001b[0m\u001b[0;34m)\u001b[0m\u001b[0;34m\u001b[0m\u001b[0;34m\u001b[0m\u001b[0m\n\u001b[0m\u001b[1;32m      4\u001b[0m \u001b[0;31m#it gives error because the variable x is deleted just now\u001b[0m\u001b[0;34m\u001b[0m\u001b[0;34m\u001b[0m\u001b[0;34m\u001b[0m\u001b[0m\n",
      "\u001b[0;31mNameError\u001b[0m: name 'x' is not defined"
     ]
    }
   ],
   "source": [
    "#DELETING THE VALUES\n",
    "del x\n",
    "print(x)\n",
    "#it gives error because the variable x is deleted just now"
   ]
  },
  {
   "cell_type": "code",
   "execution_count": 18,
   "metadata": {
    "collapsed": false
   },
   "outputs": [
    {
     "name": "stdout",
     "output_type": "stream",
     "text": [
      "15\n",
      "-5\n",
      "50\n",
      "0.5\n",
      "5\n",
      "0\n",
      "9765625\n"
     ]
    }
   ],
   "source": [
    "#ARITHEMATIC OPERATIONS\n",
    "a = 5\n",
    "b = 10\n",
    "sum = a + b\n",
    "sub = a - b\n",
    "mul = a * b\n",
    "div = a / b\n",
    "mod = a % b\n",
    "floor_div = a // b\n",
    "power = a ** b\n",
    "print(sum)\n",
    "print(sub)\n",
    "print(mul)\n",
    "print(div)\n",
    "print(mod)\n",
    "print(floor_div)\n",
    "print(power)"
   ]
  },
  {
   "cell_type": "code",
   "execution_count": 19,
   "metadata": {
    "collapsed": false
   },
   "outputs": [
    {
     "name": "stdout",
     "output_type": "stream",
     "text": [
      "True\n",
      "False\n",
      "False\n",
      "False\n",
      "True\n",
      "True\n"
     ]
    }
   ],
   "source": [
    "#COMPARISION OPERATOR\n",
    "#taking same values for both a and b\n",
    "a = 5\n",
    "b = 5\n",
    "print(a == b)\n",
    "print(a != b)\n",
    "print(a > b)\n",
    "print(a < b)\n",
    "print(a >= b)\n",
    "print(a <= b)"
   ]
  },
  {
   "cell_type": "code",
   "execution_count": 20,
   "metadata": {
    "collapsed": false
   },
   "outputs": [
    {
     "name": "stdout",
     "output_type": "stream",
     "text": [
      "False\n",
      "True\n",
      "False\n",
      "True\n",
      "False\n",
      "True\n"
     ]
    }
   ],
   "source": [
    "#COMPARISION OPERATOR\n",
    "#taking different values for both a and b\n",
    "a = 5\n",
    "b = 10\n",
    "print(a == b)\n",
    "print(a != b)\n",
    "print(a > b)\n",
    "print(a < b)\n",
    "print(a >= b)\n",
    "print(a <= b)"
   ]
  },
  {
   "cell_type": "code",
   "execution_count": 21,
   "metadata": {
    "collapsed": false
   },
   "outputs": [
    {
     "name": "stdout",
     "output_type": "stream",
     "text": [
      "5 5\n",
      "10 5\n",
      "5 5\n",
      "25 5\n",
      "5.0 5\n",
      "3125.0 5\n"
     ]
    }
   ],
   "source": [
    "#ASSIGNMENT OPERATOR\n",
    "a = 5\n",
    "b = a\n",
    "#assigning the value of a to b\n",
    "print(a, b)\n",
    "#initial values\n",
    "a += b\n",
    "#a+=b is same as a+b=b\n",
    "print(a,b)\n",
    "#after doing addition\n",
    "a -= b\n",
    "print(a,b)\n",
    "#after doing subtraction\n",
    "a *= b\n",
    "print(a,b)\n",
    "#after doing multiplication\n",
    "a /= b\n",
    "print(a,b)\n",
    "#after doing division\n",
    "a **= b\n",
    "print(a,b)\n",
    "#after doing power"
   ]
  },
  {
   "cell_type": "code",
   "execution_count": 22,
   "metadata": {
    "collapsed": false
   },
   "outputs": [
    {
     "name": "stdout",
     "output_type": "stream",
     "text": [
      "3\n",
      "0\n"
     ]
    }
   ],
   "source": [
    "#BITWISE OPERATOR\n",
    "a = 2\n",
    "b = 1\n",
    "print(a | b)\n",
    "print(a & b)"
   ]
  },
  {
   "cell_type": "code",
   "execution_count": 23,
   "metadata": {
    "collapsed": false
   },
   "outputs": [
    {
     "name": "stdout",
     "output_type": "stream",
     "text": [
      "True\n",
      "False\n",
      "True\n"
     ]
    }
   ],
   "source": [
    "#LOGICAL OPERATOR\n",
    "a = 5\n",
    "b = 10\n",
    "print(a > b or a < b)\n",
    "print(a == b or a > b)\n",
    "print(a < b and a != b)"
   ]
  },
  {
   "cell_type": "code",
   "execution_count": 24,
   "metadata": {
    "collapsed": false
   },
   "outputs": [
    {
     "name": "stdout",
     "output_type": "stream",
     "text": [
      "True\n",
      "False\n"
     ]
    },
    {
     "data": {
      "text/plain": [
       "True"
      ]
     },
     "execution_count": 24,
     "metadata": {
     },
     "output_type": "execute_result"
    }
   ],
   "source": [
    "#MEMBERSHIP OPERATOR\n",
    "str = \"anyname\"\n",
    "print(\"a\" in str)\n",
    "print(\"a\" not in str)\n",
    "#IDENTITY OPERATOR\n",
    "a = 5\n",
    "b = 5\n",
    "\n",
    "a is b"
   ]
  }
 ],
 "metadata": {
  "kernelspec": {
   "display_name": "Python 3 (system-wide)",
   "language": "python",
   "metadata": {
    "cocalc": {
     "description": "Python 3 programming language",
     "priority": 100,
     "url": "https://www.python.org/"
    }
   },
   "name": "python3"
  },
  "language_info": {
   "codemirror_mode": {
    "name": "ipython",
    "version": 3
   },
   "file_extension": ".py",
   "mimetype": "text/x-python",
   "name": "python",
   "nbconvert_exporter": "python",
   "pygments_lexer": "ipython3",
   "version": "3.6.9"
  }
 },
 "nbformat": 4,
 "nbformat_minor": 4
}