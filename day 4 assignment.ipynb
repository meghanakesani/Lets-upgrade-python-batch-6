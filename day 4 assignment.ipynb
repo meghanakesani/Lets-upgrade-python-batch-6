{
 "cells": [
  {
   "cell_type": "code",
   "execution_count": 5,
   "metadata": {
    "collapsed": false
   },
   "outputs": [
    {
     "name": "stdout",
     "output_type": "stream",
     "text": [
      "The original string is : I love my family and India is my family\n",
      "The substring to find : family\n",
      "The start indices of the substrings are : [10, 33]\n",
      "'family'  occurrence count :  2\n"
     ]
    }
   ],
   "source": [
    "#FIND ALL OCCURENCE OF SUBSTRING IN THE GIVEN STRING AND PRINT INDEX VALUES.\n",
    "import re\n",
    "string = \"I love my family and India is my family\"\n",
    "string_sub = \"family\"\n",
    "print(\"The original string is : \" + string)\n",
    "print(\"The substring to find : \" + string_sub)\n",
    "res = [i.start() for i in re.finditer(string_sub, string)]\n",
    "print(\"The start indices of the substrings are : \" + str(res))\n",
    "count = string.count('family')\n",
    "print(\"'family'  occurrence count : \" , count)\n"
   ]
  },
  {
   "cell_type": "code",
   "execution_count": 15,
   "metadata": {
    "collapsed": false
   },
   "outputs": [
    {
     "name": "stdout",
     "output_type": "stream",
     "text": [
      "True\n",
      "True\n",
      "False\n",
      "False\n"
     ]
    }
   ],
   "source": [
    "#EXPLAIN isupper() AND islower() WITH DIFFERENT KINDS OF STRINGS.\n",
    "#----1)isupper():It returns \"true\" if all characters of the string are present in uppercase letters.\n",
    "#SYNTAX:string.isupper()\n",
    "#RETURN TYPE:true--> if all characters of the string are in uppercase letters and false--> if any of the characters is not in uppercase letter.\n",
    "\n",
    "#EXAMPLES:\n",
    "\n",
    "#using all uppercase letters\n",
    "string = \"MEGHANA KESANI\"\n",
    "print (string.isupper())\n",
    "\n",
    "#using uppercase letters,dot\n",
    "string = \"MEGHANA.KESANI\"\n",
    "print (string.isupper())\n",
    "\n",
    "#using both uppercase and lowercase letters\n",
    "string =\"MEGHANA kesani\"\n",
    "print (string.isupper())\n",
    "\n",
    "#using all lowercase letters\n",
    "string = \"meghana kesani\"\n",
    "print (string.isupper())"
   ]
  },
  {
   "cell_type": "code",
   "execution_count": 14,
   "metadata": {
    "collapsed": false
   },
   "outputs": [
    {
     "name": "stdout",
     "output_type": "stream",
     "text": [
      "False\n",
      "True\n",
      "True\n",
      "True\n"
     ]
    }
   ],
   "source": [
    "#---2)islower():It returns \"true\" if all characters of the string are present in lowercase letters.\n",
    "#SYNTAX:string.islower()\n",
    "#RETURN TYPE:true-->if all characters of the string are in lowercase letters and false-->if any of the character is not in lowercase letter.\n",
    "\n",
    "#EXAMPLES:\n",
    "\n",
    "#using all lowercase letters\n",
    "string = \"meghanakesani\"\n",
    "print (string.islower())\n",
    "\n",
    "#using lowercase letters,dot\n",
    "string = \"meghana.kesani\"\n",
    "print (string.islower())\n",
    "\n",
    "#using both uppercase and lowercase letters\n",
    "string =\"MEGHANA kesani\"\n",
    "print (string.isupper())\n",
    "\n",
    "\n",
    "#using all uppercase letters\n",
    "string = \"MEGHANA KESANI\"\n",
    "print (string.islower())"
   ]
  }
 ],
 "metadata": {
  "kernelspec": {
   "display_name": "Python 3 (system-wide)",
   "language": "python",
   "metadata": {
    "cocalc": {
     "description": "Python 3 programming language",
     "priority": 100,
     "url": "https://www.python.org/"
    }
   },
   "name": "python3"
  },
  "language_info": {
   "codemirror_mode": {
    "name": "ipython",
    "version": 3
   },
   "file_extension": ".py",
   "mimetype": "text/x-python",
   "name": "python",
   "nbconvert_exporter": "python",
   "pygments_lexer": "ipython3",
   "version": "3.6.9"
  }
 },
 "nbformat": 4,
 "nbformat_minor": 4
}