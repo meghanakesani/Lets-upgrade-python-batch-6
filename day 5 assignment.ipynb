{
 "cells": [
  {
   "cell_type": "code",
   "execution_count": 30,
   "metadata": {
    "collapsed": false
   },
   "outputs": [
    {
     "name": "stdout",
     "output_type": "stream",
     "text": [
      "sorted list : [56, 56, 10, 4, 4, 3, 2, 2, 1, 1, 1, 0, 0, 0, 0, 0]\n"
     ]
    }
   ],
   "source": [
    "#[0,1,2,10,4,1,0,56,2,0,1,3,0,56,0,4]\n",
    "#SORT BY DECREASING ORDER BUT ALL ZEROES SHOULD BE AT THE RIGHTHAND SIDE.\n",
    "a=[0,1,2,10,4,1,0,56,2,0,1,3,0,56,0,4]\n",
    "a.sort()\n",
    "a.sort(reverse=1)\n",
    "print('sorted list :',a)"
   ]
  },
  {
   "cell_type": "code",
   "execution_count": 2,
   "metadata": {
    "collapsed": false
   },
   "outputs": [
    {
     "name": "stdout",
     "output_type": "stream",
     "text": [
      "The original list 1 is : [10, 20, 40, 60, 70, 80]\n",
      "The original list 2 is : [5, 15, 25, 35, 45, 60]\n",
      "The combined sorted list is : [5, 10, 15, 20, 25, 35, 40, 45, 60, 60, 70, 80]\n"
     ]
    }
   ],
   "source": [
    "#list1 = [10,20,40,60,70,80] sorted list 1\n",
    "#list2 = [5,15,25,35,45,60] sorted list 2\n",
    "#MERGE 2 SORTED LISTES TO PRODUCE 1 SORTED LIST ,BUT USE ONLY LOOP EITHER WHILE OR FOR ONLY ONE TIME.\n",
    "\n",
    "list1 = [10,20,40,60,70,80]\n",
    "list2 = [5,15,25,35,45,60]\n",
    "print (\"The original list 1 is : \" + str(list1))\n",
    "print (\"The original list 2 is : \" + str(list2))\n",
    "size_1 = len(list1)\n",
    "size_2 = len(list2)\n",
    "res = []\n",
    "i, j = 0, 0\n",
    "while i < size_1 and j < size_2:\n",
    "    if list1[i] < list2[j]:\n",
    "      res.append(list1[i])\n",
    "      i += 1\n",
    "    else:\n",
    "      res.append(list2[j])\n",
    "      j += 1\n",
    "res = res + list1[i:] + list2[j:]\n",
    "print (\"The combined sorted list is : \" + str(res))"
   ]
  }
 ],
 "metadata": {
  "kernelspec": {
   "display_name": "Python 3 (system-wide)",
   "language": "python",
   "metadata": {
    "cocalc": {
     "description": "Python 3 programming language",
     "priority": 100,
     "url": "https://www.python.org/"
    }
   },
   "name": "python3"
  },
  "language_info": {
   "codemirror_mode": {
    "name": "ipython",
    "version": 3
   },
   "file_extension": ".py",
   "mimetype": "text/x-python",
   "name": "python",
   "nbconvert_exporter": "python",
   "pygments_lexer": "ipython3",
   "version": "3.6.9"
  }
 },
 "nbformat": 4,
 "nbformat_minor": 4
}