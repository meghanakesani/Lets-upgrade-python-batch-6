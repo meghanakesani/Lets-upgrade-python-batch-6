{
 "cells": [
  {
   "cell_type": "code",
   "execution_count": 1,
   "metadata": {
    "collapsed": false
   },
   "outputs": [
    {
     "name": "stdout",
     "output_type": "stream",
     "text": [
      "{1: 'a', 2: 'b', 3: 'c', 4: 'd', 5: 'e'}\n"
     ]
    }
   ],
   "source": [
    "#list1 = [1,2,3,4,5]\n",
    "#list2 = [\"a\",\"b\",\"c\",\"d\",\"e\"]\n",
    "#CONVERT TO A DICTIONARY IN ONE LINE CODE USING LIST COMPREHENSION(WITHOUT USING ZIP METHOD)\n",
    "\n",
    "\n",
    "#here,no.of values and no.of keys should be same or equal while converting a list into a dictionary.\n",
    "#if not it shows or gives an error.\n",
    "list1 = [1,2,3,4,5]\n",
    "list2 = ['a','b','c','d','e']\n",
    "dict1 = {list1[i]: list2[i] for i in range(len(list1))}\n",
    "print(dict1)\n"
   ]
  }
 ],
 "metadata": {
  "kernelspec": {
   "display_name": "Python 3 (system-wide)",
   "language": "python",
   "metadata": {
    "cocalc": {
     "description": "Python 3 programming language",
     "priority": 100,
     "url": "https://www.python.org/"
    }
   },
   "name": "python3"
  },
  "language_info": {
   "codemirror_mode": {
    "name": "ipython",
    "version": 3
   },
   "file_extension": ".py",
   "mimetype": "text/x-python",
   "name": "python",
   "nbconvert_exporter": "python",
   "pygments_lexer": "ipython3",
   "version": "3.6.9"
  }
 },
 "nbformat": 4,
 "nbformat_minor": 4
}