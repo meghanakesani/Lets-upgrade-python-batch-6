{
 "cells": [
  {
   "cell_type": "code",
   "execution_count": 1,
   "metadata": {
    "collapsed": false
   },
   "outputs": [
    {
     "name": "stdout",
     "output_type": "stream",
     "text": [
      "{'FTP': 21, 'SSH': 22, 'telnet': 23, 'http': 80}\n"
     ]
    }
   ],
   "source": [
    "#USE THE DICTIONARY\n",
    "#port1 = {21 : 'FTP', 22 : 'SSH', 23 : 'telnet', 80 : 'http'} AND MAKE A NEW DICTIONARY IN WHICH KEYS BECOME VALUES AND VALUES BECOME KEYS AS SHOWN\n",
    "#port2 = {FTP': 21, 'SSH': 22, 'telnet': 23, 'http': 80}\n",
    "\n",
    "port1 = {21 : 'FTP', 22 : 'SSH', 23 : 'telnet', 80 : 'http'}\n",
    "port2 = dict([(value,key)for key, value in port1.items()])\n",
    "print(port2)"
   ]
  },
  {
   "cell_type": "code",
   "execution_count": 2,
   "metadata": {
    "collapsed": false
   },
   "outputs": [
    {
     "name": "stdout",
     "output_type": "stream",
     "text": [
      "[3, 7, 11, 9]\n"
     ]
    }
   ],
   "source": [
    "#TAKE A LIST OF TUPLE AS SHOWN BELOW:\n",
    "#[(1,2),(3,4),(5,6),(4,5)]\n",
    "#MAKE A NEW LIST WHICH CONTAINS THE SUM OF THE NUMBER OF TUPLES\n",
    "#FOR EXAMPLE:\n",
    "#INPUT:[(1,2),(3,4),(5,6)]\n",
    "#OUTPUT:[3,7,11]\n",
    "\n",
    "\n",
    "list1 = [(1,2),(3,4),(5,6),(4,5)]\n",
    "list2 = list([sum(i) for i in list1])\n",
    "print (list2)"
   ]
  },
  {
   "cell_type": "code",
   "execution_count": 3,
   "metadata": {
    "collapsed": false
   },
   "outputs": [
    {
     "name": "stdout",
     "output_type": "stream",
     "text": [
      "[[1, 2, 3], [1, 2], ['a', 'hit', 'less']]\n"
     ]
    }
   ],
   "source": [
    "#TAKE A LIST AS SHOWN BELOW\n",
    "#[(1,2,3),[1,2],['a','hit','less']]\n",
    "#THE LIST CONTAINS TUPLE AND LISTS.MAKE THE ELEMENTS OF INNER LISTS AND TUPLES TO OUTER LISTS\n",
    "\n",
    "\n",
    "list1 = [(1,2,3),[1,2],['a','hit','less']]\n",
    "list2 = [list(each) for each in list1]\n",
    "print(list2)\n",
    "list3 = [item for element in list2 for item in element]"
   ]
  }
 ],
 "metadata": {
  "kernelspec": {
   "display_name": "Python 3 (system-wide)",
   "language": "python",
   "metadata": {
    "cocalc": {
     "description": "Python 3 programming language",
     "priority": 100,
     "url": "https://www.python.org/"
    }
   },
   "name": "python3"
  },
  "language_info": {
   "codemirror_mode": {
    "name": "ipython",
    "version": 3
   },
   "file_extension": ".py",
   "mimetype": "text/x-python",
   "name": "python",
   "nbconvert_exporter": "python",
   "pygments_lexer": "ipython3",
   "version": "3.6.9"
  }
 },
 "nbformat": 4,
 "nbformat_minor": 4
}